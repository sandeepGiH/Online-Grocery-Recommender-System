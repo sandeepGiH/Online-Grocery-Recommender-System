{
 "cells": [
  {
   "cell_type": "code",
   "execution_count": 1,
   "id": "a8c176f2",
   "metadata": {},
   "outputs": [],
   "source": [
    "import warnings\n",
    "\n",
    "warnings.simplefilter(\"ignore\")"
   ]
  },
  {
   "cell_type": "code",
   "execution_count": 2,
   "id": "a629a508",
   "metadata": {},
   "outputs": [
    {
     "data": {
      "text/plain": [
       "<Experiment: artifact_location='file:///C:/Users/SANDEEP/Downloads/cars_mlr%20%282%29/cars_mlr/mlruns/933766090133469887', creation_time=1671709492065, experiment_id='933766090133469887', last_update_time=1671709492065, lifecycle_stage='active', name='heart-condition-classifier', tags={}>"
      ]
     },
     "execution_count": 2,
     "metadata": {},
     "output_type": "execute_result"
    }
   ],
   "source": [
    "import mlflow\n",
    "\n",
    "mlflow.set_experiment(experiment_name=\"heart-condition-classifier\")"
   ]
  },
  {
   "cell_type": "code",
   "execution_count": null,
   "id": "e7bf02b9",
   "metadata": {},
   "outputs": [],
   "source": [
    "#!pip install mlflow\n"
   ]
  },
  {
   "cell_type": "code",
   "execution_count": 3,
   "id": "532b6ba6",
   "metadata": {},
   "outputs": [],
   "source": [
    "import pandas as pd\n",
    "file_url = r\"Cars.csv\"\n",
    "df = pd.read_csv(file_url)"
   ]
  },
  {
   "cell_type": "code",
   "execution_count": 4,
   "id": "8233e5ea",
   "metadata": {},
   "outputs": [
    {
     "data": {
      "text/html": [
       "<div>\n",
       "<style scoped>\n",
       "    .dataframe tbody tr th:only-of-type {\n",
       "        vertical-align: middle;\n",
       "    }\n",
       "\n",
       "    .dataframe tbody tr th {\n",
       "        vertical-align: top;\n",
       "    }\n",
       "\n",
       "    .dataframe thead th {\n",
       "        text-align: right;\n",
       "    }\n",
       "</style>\n",
       "<table border=\"1\" class=\"dataframe\">\n",
       "  <thead>\n",
       "    <tr style=\"text-align: right;\">\n",
       "      <th></th>\n",
       "      <th>MPG</th>\n",
       "      <th>Enginetype</th>\n",
       "      <th>HP</th>\n",
       "      <th>VOL</th>\n",
       "      <th>SP</th>\n",
       "      <th>WT</th>\n",
       "    </tr>\n",
       "  </thead>\n",
       "  <tbody>\n",
       "    <tr>\n",
       "      <th>0</th>\n",
       "      <td>53.700681</td>\n",
       "      <td>petrol</td>\n",
       "      <td>49</td>\n",
       "      <td>89</td>\n",
       "      <td>104.185353</td>\n",
       "      <td>28.762059</td>\n",
       "    </tr>\n",
       "    <tr>\n",
       "      <th>1</th>\n",
       "      <td>50.013401</td>\n",
       "      <td>hybrid</td>\n",
       "      <td>55</td>\n",
       "      <td>92</td>\n",
       "      <td>105.461264</td>\n",
       "      <td>30.466833</td>\n",
       "    </tr>\n",
       "    <tr>\n",
       "      <th>2</th>\n",
       "      <td>50.013401</td>\n",
       "      <td>diesel</td>\n",
       "      <td>55</td>\n",
       "      <td>92</td>\n",
       "      <td>105.461264</td>\n",
       "      <td>30.193597</td>\n",
       "    </tr>\n",
       "    <tr>\n",
       "      <th>3</th>\n",
       "      <td>45.696322</td>\n",
       "      <td>lpg</td>\n",
       "      <td>70</td>\n",
       "      <td>92</td>\n",
       "      <td>113.461264</td>\n",
       "      <td>30.632114</td>\n",
       "    </tr>\n",
       "    <tr>\n",
       "      <th>4</th>\n",
       "      <td>50.504232</td>\n",
       "      <td>petrol</td>\n",
       "      <td>53</td>\n",
       "      <td>92</td>\n",
       "      <td>104.461264</td>\n",
       "      <td>29.889149</td>\n",
       "    </tr>\n",
       "    <tr>\n",
       "      <th>...</th>\n",
       "      <td>...</td>\n",
       "      <td>...</td>\n",
       "      <td>...</td>\n",
       "      <td>...</td>\n",
       "      <td>...</td>\n",
       "      <td>...</td>\n",
       "    </tr>\n",
       "    <tr>\n",
       "      <th>2494</th>\n",
       "      <td>43.469434</td>\n",
       "      <td>petrol</td>\n",
       "      <td>52</td>\n",
       "      <td>104</td>\n",
       "      <td>99.564907</td>\n",
       "      <td>34.483207</td>\n",
       "    </tr>\n",
       "    <tr>\n",
       "      <th>2495</th>\n",
       "      <td>35.404192</td>\n",
       "      <td>diesel</td>\n",
       "      <td>103</td>\n",
       "      <td>107</td>\n",
       "      <td>121.840817</td>\n",
       "      <td>35.549360</td>\n",
       "    </tr>\n",
       "    <tr>\n",
       "      <th>2496</th>\n",
       "      <td>39.431235</td>\n",
       "      <td>petrol</td>\n",
       "      <td>84</td>\n",
       "      <td>114</td>\n",
       "      <td>113.484609</td>\n",
       "      <td>37.042350</td>\n",
       "    </tr>\n",
       "    <tr>\n",
       "      <th>2497</th>\n",
       "      <td>39.431235</td>\n",
       "      <td>petrol</td>\n",
       "      <td>84</td>\n",
       "      <td>101</td>\n",
       "      <td>112.288996</td>\n",
       "      <td>33.234361</td>\n",
       "    </tr>\n",
       "    <tr>\n",
       "      <th>2498</th>\n",
       "      <td>36.285456</td>\n",
       "      <td>cng</td>\n",
       "      <td>102</td>\n",
       "      <td>97</td>\n",
       "      <td>119.921115</td>\n",
       "      <td>31.380041</td>\n",
       "    </tr>\n",
       "  </tbody>\n",
       "</table>\n",
       "<p>2499 rows × 6 columns</p>\n",
       "</div>"
      ],
      "text/plain": [
       "            MPG Enginetype   HP  VOL          SP         WT\n",
       "0     53.700681     petrol   49   89  104.185353  28.762059\n",
       "1     50.013401     hybrid   55   92  105.461264  30.466833\n",
       "2     50.013401     diesel   55   92  105.461264  30.193597\n",
       "3     45.696322        lpg   70   92  113.461264  30.632114\n",
       "4     50.504232     petrol   53   92  104.461264  29.889149\n",
       "...         ...        ...  ...  ...         ...        ...\n",
       "2494  43.469434     petrol   52  104   99.564907  34.483207\n",
       "2495  35.404192     diesel  103  107  121.840817  35.549360\n",
       "2496  39.431235     petrol   84  114  113.484609  37.042350\n",
       "2497  39.431235     petrol   84  101  112.288996  33.234361\n",
       "2498  36.285456        cng  102   97  119.921115  31.380041\n",
       "\n",
       "[2499 rows x 6 columns]"
      ]
     },
     "execution_count": 4,
     "metadata": {},
     "output_type": "execute_result"
    }
   ],
   "source": [
    "df"
   ]
  },
  {
   "cell_type": "code",
   "execution_count": 5,
   "id": "f047efd6",
   "metadata": {},
   "outputs": [
    {
     "data": {
      "text/plain": [
       "MPG           False\n",
       "Enginetype    False\n",
       "HP            False\n",
       "VOL           False\n",
       "SP            False\n",
       "WT            False\n",
       "dtype: bool"
      ]
     },
     "execution_count": 5,
     "metadata": {},
     "output_type": "execute_result"
    }
   ],
   "source": [
    "df.isnull().any()"
   ]
  },
  {
   "cell_type": "code",
   "execution_count": 6,
   "id": "826b32b6",
   "metadata": {},
   "outputs": [],
   "source": [
    "X = df.iloc[:, 1:6].values\n",
    "y = df.iloc[:, 0].values"
   ]
  },
  {
   "cell_type": "code",
   "execution_count": 7,
   "id": "0c15432b",
   "metadata": {},
   "outputs": [
    {
     "data": {
      "text/plain": [
       "array(['petrol', 'hybrid', 'diesel', 'lpg', 'cng'], dtype=object)"
      ]
     },
     "execution_count": 7,
     "metadata": {},
     "output_type": "execute_result"
    }
   ],
   "source": [
    "df[\"Enginetype\"].unique()"
   ]
  },
  {
   "cell_type": "code",
   "execution_count": 8,
   "id": "41533e92",
   "metadata": {},
   "outputs": [],
   "source": [
    "mlflow.sklearn.autolog()"
   ]
  },
  {
   "cell_type": "code",
   "execution_count": 9,
   "id": "ee42b0ae",
   "metadata": {},
   "outputs": [
    {
     "data": {
      "text/plain": [
       "array([[0.0, 0.0, 0.0, ..., 89, 104.1853528, 28.7620589],\n",
       "       [0.0, 0.0, 1.0, ..., 92, 105.4612635, 30.46683298],\n",
       "       [0.0, 1.0, 0.0, ..., 92, 105.4612635, 30.19359657],\n",
       "       ...,\n",
       "       [0.0, 0.0, 0.0, ..., 114, 113.4846092, 37.04235003],\n",
       "       [0.0, 0.0, 0.0, ..., 101, 112.2889958, 33.23436141],\n",
       "       [1.0, 0.0, 0.0, ..., 97, 119.9211148, 31.38004084]], dtype=object)"
      ]
     },
     "execution_count": 9,
     "metadata": {},
     "output_type": "execute_result"
    }
   ],
   "source": [
    "from sklearn.compose import ColumnTransformer \n",
    "from sklearn.preprocessing import OneHotEncoder\n",
    "ct = ColumnTransformer([(\"onehotencoder\", OneHotEncoder(), [0])], remainder = \"passthrough\")\n",
    "X = ct.fit_transform(X)\n",
    "X"
   ]
  },
  {
   "cell_type": "code",
   "execution_count": 10,
   "id": "933293c1",
   "metadata": {},
   "outputs": [
    {
     "name": "stderr",
     "output_type": "stream",
     "text": [
      "2022/12/22 17:27:26 WARNING mlflow.utils.git_utils: Failed to import Git (the Git executable is probably not on your PATH), so Git SHA is not available. Error: Failed to initialize: Bad git executable.\n",
      "The git executable must be specified in one of the following ways:\n",
      "    - be included in your $PATH\n",
      "    - be set via $GIT_PYTHON_GIT_EXECUTABLE\n",
      "    - explicitly set via git.refresh()\n",
      "\n",
      "All git commands will error until this is rectified.\n",
      "\n",
      "This initial warning can be silenced or aggravated in the future by setting the\n",
      "$GIT_PYTHON_REFRESH environment variable. Use one of the following values:\n",
      "    - quiet|q|silence|s|none|n|0: for no warning or exception\n",
      "    - warn|w|warning|1: for a printed warning\n",
      "    - error|e|raise|r|2: for a raised exception\n",
      "\n",
      "Example:\n",
      "    export GIT_PYTHON_REFRESH=quiet\n",
      "\n"
     ]
    }
   ],
   "source": [
    "run = mlflow.start_run()"
   ]
  },
  {
   "cell_type": "code",
   "execution_count": 11,
   "id": "b9438792",
   "metadata": {},
   "outputs": [
    {
     "data": {
      "text/html": [
       "<style>#sk-container-id-2 {color: black;background-color: white;}#sk-container-id-2 pre{padding: 0;}#sk-container-id-2 div.sk-toggleable {background-color: white;}#sk-container-id-2 label.sk-toggleable__label {cursor: pointer;display: block;width: 100%;margin-bottom: 0;padding: 0.3em;box-sizing: border-box;text-align: center;}#sk-container-id-2 label.sk-toggleable__label-arrow:before {content: \"▸\";float: left;margin-right: 0.25em;color: #696969;}#sk-container-id-2 label.sk-toggleable__label-arrow:hover:before {color: black;}#sk-container-id-2 div.sk-estimator:hover label.sk-toggleable__label-arrow:before {color: black;}#sk-container-id-2 div.sk-toggleable__content {max-height: 0;max-width: 0;overflow: hidden;text-align: left;background-color: #f0f8ff;}#sk-container-id-2 div.sk-toggleable__content pre {margin: 0.2em;color: black;border-radius: 0.25em;background-color: #f0f8ff;}#sk-container-id-2 input.sk-toggleable__control:checked~div.sk-toggleable__content {max-height: 200px;max-width: 100%;overflow: auto;}#sk-container-id-2 input.sk-toggleable__control:checked~label.sk-toggleable__label-arrow:before {content: \"▾\";}#sk-container-id-2 div.sk-estimator input.sk-toggleable__control:checked~label.sk-toggleable__label {background-color: #d4ebff;}#sk-container-id-2 div.sk-label input.sk-toggleable__control:checked~label.sk-toggleable__label {background-color: #d4ebff;}#sk-container-id-2 input.sk-hidden--visually {border: 0;clip: rect(1px 1px 1px 1px);clip: rect(1px, 1px, 1px, 1px);height: 1px;margin: -1px;overflow: hidden;padding: 0;position: absolute;width: 1px;}#sk-container-id-2 div.sk-estimator {font-family: monospace;background-color: #f0f8ff;border: 1px dotted black;border-radius: 0.25em;box-sizing: border-box;margin-bottom: 0.5em;}#sk-container-id-2 div.sk-estimator:hover {background-color: #d4ebff;}#sk-container-id-2 div.sk-parallel-item::after {content: \"\";width: 100%;border-bottom: 1px solid gray;flex-grow: 1;}#sk-container-id-2 div.sk-label:hover label.sk-toggleable__label {background-color: #d4ebff;}#sk-container-id-2 div.sk-serial::before {content: \"\";position: absolute;border-left: 1px solid gray;box-sizing: border-box;top: 0;bottom: 0;left: 50%;z-index: 0;}#sk-container-id-2 div.sk-serial {display: flex;flex-direction: column;align-items: center;background-color: white;padding-right: 0.2em;padding-left: 0.2em;position: relative;}#sk-container-id-2 div.sk-item {position: relative;z-index: 1;}#sk-container-id-2 div.sk-parallel {display: flex;align-items: stretch;justify-content: center;background-color: white;position: relative;}#sk-container-id-2 div.sk-item::before, #sk-container-id-2 div.sk-parallel-item::before {content: \"\";position: absolute;border-left: 1px solid gray;box-sizing: border-box;top: 0;bottom: 0;left: 50%;z-index: -1;}#sk-container-id-2 div.sk-parallel-item {display: flex;flex-direction: column;z-index: 1;position: relative;background-color: white;}#sk-container-id-2 div.sk-parallel-item:first-child::after {align-self: flex-end;width: 50%;}#sk-container-id-2 div.sk-parallel-item:last-child::after {align-self: flex-start;width: 50%;}#sk-container-id-2 div.sk-parallel-item:only-child::after {width: 0;}#sk-container-id-2 div.sk-dashed-wrapped {border: 1px dashed gray;margin: 0 0.4em 0.5em 0.4em;box-sizing: border-box;padding-bottom: 0.4em;background-color: white;}#sk-container-id-2 div.sk-label label {font-family: monospace;font-weight: bold;display: inline-block;line-height: 1.2em;}#sk-container-id-2 div.sk-label-container {text-align: center;}#sk-container-id-2 div.sk-container {/* jupyter's `normalize.less` sets `[hidden] { display: none; }` but bootstrap.min.css set `[hidden] { display: none !important; }` so we also need the `!important` here to be able to override the default hidden behavior on the sphinx rendered scikit-learn.org. See: https://github.com/scikit-learn/scikit-learn/issues/21755 */display: inline-block !important;position: relative;}#sk-container-id-2 div.sk-text-repr-fallback {display: none;}</style><div id=\"sk-container-id-2\" class=\"sk-top-container\"><div class=\"sk-text-repr-fallback\"><pre>LinearRegression()</pre><b>In a Jupyter environment, please rerun this cell to show the HTML representation or trust the notebook. <br />On GitHub, the HTML representation is unable to render, please try loading this page with nbviewer.org.</b></div><div class=\"sk-container\" hidden><div class=\"sk-item\"><div class=\"sk-estimator sk-toggleable\"><input class=\"sk-toggleable__control sk-hidden--visually\" id=\"sk-estimator-id-2\" type=\"checkbox\" checked><label for=\"sk-estimator-id-2\" class=\"sk-toggleable__label sk-toggleable__label-arrow\">LinearRegression</label><div class=\"sk-toggleable__content\"><pre>LinearRegression()</pre></div></div></div></div></div>"
      ],
      "text/plain": [
       "LinearRegression()"
      ]
     },
     "execution_count": 11,
     "metadata": {},
     "output_type": "execute_result"
    }
   ],
   "source": [
    "from sklearn.model_selection import train_test_split\n",
    "X_train, X_test, y_train, y_test = train_test_split(X, y, test_size = 0.2, random_state = 0)\n",
    "from sklearn.linear_model import LinearRegression\n",
    "multilinear = LinearRegression()\n",
    "multilinear.fit(X_train,y_train)\n"
   ]
  },
  {
   "cell_type": "code",
   "execution_count": 12,
   "id": "341ead04",
   "metadata": {},
   "outputs": [
    {
     "data": {
      "text/plain": [
       "array([[0.0, 1.0, 0.0, ..., 113, 143.3926389, 37.62069475],\n",
       "       [0.0, 0.0, 0.0, ..., 111, 130.2086984, 36.88815313],\n",
       "       [0.0, 1.0, 0.0, ..., 86, 127.909442, 28.07059654],\n",
       "       ...,\n",
       "       [0.0, 1.0, 0.0, ..., 91, 114.3692933, 29.92939368],\n",
       "       [0.0, 0.0, 0.0, ..., 94, 115.6452041, 30.92015417],\n",
       "       [0.0, 0.0, 0.0, ..., 115, 150.5765794, 37.92311321]], dtype=object)"
      ]
     },
     "execution_count": 12,
     "metadata": {},
     "output_type": "execute_result"
    }
   ],
   "source": [
    "X_test"
   ]
  },
  {
   "cell_type": "code",
   "execution_count": 13,
   "id": "a23d1a3c",
   "metadata": {},
   "outputs": [],
   "source": [
    "y_pred = multilinear.predict(X_test)"
   ]
  },
  {
   "cell_type": "code",
   "execution_count": null,
   "id": "f05c96e7",
   "metadata": {},
   "outputs": [],
   "source": [
    "#y_pred"
   ]
  },
  {
   "cell_type": "code",
   "execution_count": null,
   "id": "bd301acd",
   "metadata": {},
   "outputs": [],
   "source": [
    "#y_test"
   ]
  },
  {
   "cell_type": "code",
   "execution_count": 14,
   "id": "eeefeda3",
   "metadata": {},
   "outputs": [
    {
     "data": {
      "text/plain": [
       "0.7339434097835325"
      ]
     },
     "execution_count": 14,
     "metadata": {},
     "output_type": "execute_result"
    }
   ],
   "source": [
    "from sklearn.metrics import r2_score\n",
    "accuracy = r2_score(y_test, y_pred)\n",
    "accuracy"
   ]
  },
  {
   "cell_type": "code",
   "execution_count": 15,
   "id": "961fa05f",
   "metadata": {},
   "outputs": [],
   "source": [
    "mlflow.end_run()"
   ]
  },
  {
   "cell_type": "code",
   "execution_count": 16,
   "id": "a543c810",
   "metadata": {},
   "outputs": [],
   "source": [
    "run = mlflow.get_run(run.info.run_id)"
   ]
  },
  {
   "cell_type": "code",
   "execution_count": 17,
   "id": "12ac84f6",
   "metadata": {},
   "outputs": [
    {
     "data": {
      "text/html": [
       "<div>\n",
       "<style scoped>\n",
       "    .dataframe tbody tr th:only-of-type {\n",
       "        vertical-align: middle;\n",
       "    }\n",
       "\n",
       "    .dataframe tbody tr th {\n",
       "        vertical-align: top;\n",
       "    }\n",
       "\n",
       "    .dataframe thead th {\n",
       "        text-align: right;\n",
       "    }\n",
       "</style>\n",
       "<table border=\"1\" class=\"dataframe\">\n",
       "  <thead>\n",
       "    <tr style=\"text-align: right;\">\n",
       "      <th></th>\n",
       "      <th>Value</th>\n",
       "    </tr>\n",
       "  </thead>\n",
       "  <tbody>\n",
       "    <tr>\n",
       "      <th>copy_X</th>\n",
       "      <td>True</td>\n",
       "    </tr>\n",
       "    <tr>\n",
       "      <th>fit_intercept</th>\n",
       "      <td>True</td>\n",
       "    </tr>\n",
       "    <tr>\n",
       "      <th>n_jobs</th>\n",
       "      <td>None</td>\n",
       "    </tr>\n",
       "    <tr>\n",
       "      <th>positive</th>\n",
       "      <td>False</td>\n",
       "    </tr>\n",
       "  </tbody>\n",
       "</table>\n",
       "</div>"
      ],
      "text/plain": [
       "               Value\n",
       "copy_X          True\n",
       "fit_intercept   True\n",
       "n_jobs          None\n",
       "positive       False"
      ]
     },
     "execution_count": 17,
     "metadata": {},
     "output_type": "execute_result"
    }
   ],
   "source": [
    "pd.DataFrame(data=[run.data.params], index=[\"Value\"]).T"
   ]
  },
  {
   "cell_type": "code",
   "execution_count": 18,
   "id": "17ddc81f",
   "metadata": {},
   "outputs": [
    {
     "data": {
      "text/html": [
       "<div>\n",
       "<style scoped>\n",
       "    .dataframe tbody tr th:only-of-type {\n",
       "        vertical-align: middle;\n",
       "    }\n",
       "\n",
       "    .dataframe tbody tr th {\n",
       "        vertical-align: top;\n",
       "    }\n",
       "\n",
       "    .dataframe thead th {\n",
       "        text-align: right;\n",
       "    }\n",
       "</style>\n",
       "<table border=\"1\" class=\"dataframe\">\n",
       "  <thead>\n",
       "    <tr style=\"text-align: right;\">\n",
       "      <th></th>\n",
       "      <th>Value</th>\n",
       "    </tr>\n",
       "  </thead>\n",
       "  <tbody>\n",
       "    <tr>\n",
       "      <th>r2_score__</th>\n",
       "      <td>0.733943</td>\n",
       "    </tr>\n",
       "    <tr>\n",
       "      <th>training_mean_absolute_error</th>\n",
       "      <td>1.924514</td>\n",
       "    </tr>\n",
       "    <tr>\n",
       "      <th>training_mean_squared_error</th>\n",
       "      <td>8.022595</td>\n",
       "    </tr>\n",
       "    <tr>\n",
       "      <th>training_r2_score</th>\n",
       "      <td>0.781957</td>\n",
       "    </tr>\n",
       "    <tr>\n",
       "      <th>training_root_mean_squared_error</th>\n",
       "      <td>2.832419</td>\n",
       "    </tr>\n",
       "    <tr>\n",
       "      <th>training_score</th>\n",
       "      <td>0.781957</td>\n",
       "    </tr>\n",
       "  </tbody>\n",
       "</table>\n",
       "</div>"
      ],
      "text/plain": [
       "                                     Value\n",
       "r2_score__                        0.733943\n",
       "training_mean_absolute_error      1.924514\n",
       "training_mean_squared_error       8.022595\n",
       "training_r2_score                 0.781957\n",
       "training_root_mean_squared_error  2.832419\n",
       "training_score                    0.781957"
      ]
     },
     "execution_count": 18,
     "metadata": {},
     "output_type": "execute_result"
    }
   ],
   "source": [
    "pd.DataFrame(data=[run.data.metrics], index=[\"Value\"]).T"
   ]
  },
  {
   "cell_type": "code",
   "execution_count": 19,
   "id": "3fe34b5d",
   "metadata": {},
   "outputs": [],
   "source": [
    "client = mlflow.tracking.MlflowClient()"
   ]
  },
  {
   "cell_type": "code",
   "execution_count": 20,
   "id": "dc9085c6",
   "metadata": {},
   "outputs": [
    {
     "data": {
      "text/plain": [
       "[<FileInfo: file_size=4897, is_dir=False, path='estimator.html'>,\n",
       " <FileInfo: file_size=62, is_dir=False, path='metric_info.json'>,\n",
       " <FileInfo: file_size=None, is_dir=True, path='model'>]"
      ]
     },
     "execution_count": 20,
     "metadata": {},
     "output_type": "execute_result"
    }
   ],
   "source": [
    "client.list_artifacts(run_id=run.info.run_id)"
   ]
  },
  {
   "cell_type": "code",
   "execution_count": 27,
   "id": "81d362b6",
   "metadata": {},
   "outputs": [],
   "source": [
    "classifier = mlflow.sklearn.load_model(f\"runs:/{run.info.run_id}/model\")"
   ]
  },
  {
   "cell_type": "code",
   "execution_count": 28,
   "id": "f5418273",
   "metadata": {},
   "outputs": [
    {
     "data": {
      "text/plain": [
       "sklearn.linear_model._base.LinearRegression"
      ]
     },
     "execution_count": 28,
     "metadata": {},
     "output_type": "execute_result"
    }
   ],
   "source": [
    "type(classifier)"
   ]
  },
  {
   "cell_type": "code",
   "execution_count": 29,
   "id": "3e7d68d7",
   "metadata": {},
   "outputs": [
    {
     "data": {
      "text/plain": [
       "array([24.7401896 , 29.73670468, 33.83342495, 26.88950417, 32.27623404,\n",
       "       35.24006476, 41.41179788, 35.24963766, 41.41179788, 36.28924846,\n",
       "       23.69271507, 37.16623362, 24.7401896 , 24.74518525, 41.14680239,\n",
       "       35.14640728, 29.79641341, 41.42538623, 29.79641341, 29.79641341,\n",
       "       24.7401896 , 37.28905431, 35.83586534, 24.7401896 , 25.21044759,\n",
       "       33.63847583, 37.38789562, 34.12103115, 31.30205421, 26.4663117 ,\n",
       "       35.51569783, 35.3584534 , 24.7401896 , 37.16623362, 41.41179788,\n",
       "       36.89824391, 34.37095676, 37.27532223, 43.79416167, 33.51615429,\n",
       "       44.60593367, 38.02597297, 37.43876213, 37.77748663, 35.3584534 ,\n",
       "       28.8323978 , 37.28905431, 36.1602144 , 33.51615429, 20.5150189 ,\n",
       "       35.3584534 , 16.76515693, 36.15671195, 36.28924846, 36.89824391,\n",
       "       41.42538623, 31.5025794 , 32.27623404, 37.0896145 , 25.75475141,\n",
       "       31.30205421, 37.38789562, 37.43876213, 34.06590969, 26.4663117 ,\n",
       "       37.77748663, 19.45217431, 36.15671195, 32.18928518, 34.37095676,\n",
       "       36.1602144 , 35.24006476, 36.1602144 , 41.42538623, 37.43876213,\n",
       "       31.30205421, 39.68285034, 35.24963766, 33.72967936, 37.77748663,\n",
       "       37.28905431, 36.28924846, 37.07096395, 45.53540398, 36.28924846,\n",
       "       42.7647652 , 38.02597297, 37.16623362, 33.63847583, 26.4663117 ,\n",
       "       33.72967936, 31.30205421, 32.27623404, 24.7401896 , 33.51615429,\n",
       "       29.79641341, 26.88950417, 37.16623362, 36.15671195, 39.68285034,\n",
       "       28.8323978 , 33.51615429, 39.03231674, 33.51615429, 35.14640728,\n",
       "       36.28924846, 33.51615429, 35.51569783, 37.77748663, 24.7401896 ,\n",
       "       37.38789562, 35.51569783, 33.63847583, 31.5025794 , 37.07096395,\n",
       "       35.51569783, 26.4663117 , 31.5025794 , 31.30205421, 38.02597297,\n",
       "       32.27623404, 35.14640728, 31.30205421, 28.8323978 , 24.7401896 ,\n",
       "       31.5025794 , 37.0896145 , 37.77748663, 28.8323978 , 31.5025794 ,\n",
       "       24.7401896 , 37.07096395, 35.51569783, 37.07096395, 36.15671195,\n",
       "       34.06590969, 31.5025794 , 33.83342495, 29.79641341, 31.30205421,\n",
       "       37.16623362, 31.30205421, 35.24963766, 39.57562364, 31.5025794 ,\n",
       "       32.18928518, 26.4663117 , 36.15671195, 25.21044759, 26.4663117 ,\n",
       "       35.3584534 , 25.75475141, 36.15671195, 39.68285034, 41.01497269,\n",
       "       39.20062462, 38.02597297, 36.28924846, 31.5025794 , 29.79641341,\n",
       "       33.83342495, 36.1602144 , 33.83342495, 33.51615429, 35.24006476,\n",
       "       35.24963766, 35.24006476, 39.34597396, 37.27532223, 33.83342495,\n",
       "       37.43876213, 35.24963766, 41.13968775, 29.79641341, 35.24006476,\n",
       "       35.14640728, 31.60838483, 36.1602144 , 37.43876213, 19.45217431,\n",
       "       39.68285034, 35.3584534 , 35.14640728, 35.14640728, 35.24006476,\n",
       "       26.4663117 , 38.02597297, 39.68285034, 36.1602144 , 33.51615429,\n",
       "       35.24963766, 20.5150189 , 33.63847583, 24.7401896 , 24.7401896 ,\n",
       "       32.27623404, 36.89824391, 39.70030024, 22.99065181, 33.72967936,\n",
       "       35.24963766, 32.18928518, 39.68285034, 31.60838483, 36.28924846,\n",
       "       35.3584534 , 34.06590969, 12.93030548, 37.27532223, 37.28905431,\n",
       "       37.38789562, 35.51569783, 24.97798522, 37.07096395, 31.5025794 ,\n",
       "       33.83342495, 24.7401896 , 33.51615429, 37.43876213, 29.79641341,\n",
       "       35.24006476, 36.28924846, 33.83342495, 35.24006476, 33.83342495,\n",
       "       41.13968775, 16.34925782, 35.24963766, 37.16623362, 35.24006476,\n",
       "       33.72967936, 33.83342495, 25.21044759, 42.23111459, 33.63847583,\n",
       "       32.18928518, 35.51569783, 39.68285034, 37.16623362, 45.16676615,\n",
       "       31.5025794 , 41.14680239, 29.79641341, 36.1602144 , 34.37095676,\n",
       "       13.57364324, 33.72967936, 37.28905431, 31.30205421, 31.30205421,\n",
       "       24.7401896 , 31.30205421, 31.5025794 , 33.63847583, 39.88385116,\n",
       "       42.61521009, 33.94887116, 16.34925782, 33.72967936, 38.02597297,\n",
       "       33.94887116, 45.53540398, 40.84283506, 41.01497269, 33.83342495,\n",
       "       35.3584534 , 35.51569783, 28.8323978 , 36.1602144 , 36.28924846,\n",
       "       33.94887116, 31.60838483, 35.51569783, 29.58705577, 38.02597297,\n",
       "       33.83342495, 39.70030024, 33.83342495, 31.30205421, 13.57364324,\n",
       "       41.01497269, 13.57364324, 35.24963766, 41.74290213, 33.51615429,\n",
       "       39.57562364, 39.20062462, 35.51569783, 37.16623362, 29.58705577,\n",
       "       37.07096395, 37.07096395, 35.83586534, 26.4663117 , 33.83342495,\n",
       "       39.68285034, 24.7401896 , 29.79641341, 42.7647652 , 35.3584534 ,\n",
       "       26.4663117 , 35.24006476, 33.51615429, 44.60593367, 28.8323978 ,\n",
       "       35.3584534 , 37.43876213, 16.34925782, 37.28905431, 33.83342495,\n",
       "       39.03231674, 35.24006476, 29.79641341, 37.0896145 , 35.51569783,\n",
       "       41.42538623, 31.30205421, 33.83342495, 35.24963766, 33.51615429,\n",
       "       37.43876213, 37.27532223, 39.34597396, 37.07096395, 37.0896145 ,\n",
       "       37.28905431, 34.37095676, 16.76515693, 37.27532223, 24.7401896 ,\n",
       "       35.51569783, 26.4663117 , 37.07096395, 31.30205421, 31.30205421,\n",
       "       43.79416167, 39.70030024, 31.30205421, 32.27623404, 33.94887116,\n",
       "       45.16676615, 39.34597396, 34.37095676, 26.4663117 , 35.3584534 ,\n",
       "       39.03231674, 20.05228487, 33.72967936, 35.24006476, 35.83586534,\n",
       "       33.63847583, 37.43876213, 34.37095676, 35.14640728, 37.28905431,\n",
       "       29.79641341, 39.70030024, 31.30205421, 33.83342495, 36.28924846,\n",
       "       35.24963766, 41.01497269, 35.24006476, 24.7401896 , 37.43876213,\n",
       "       37.16623362, 37.16623362, 36.89824391, 38.02597297, 36.15671195,\n",
       "       43.79416167, 34.37095676, 41.41179788, 33.51615429, 25.75475141,\n",
       "       35.14640728, 39.68285034, 35.3584534 , 23.01751239, 36.15671195,\n",
       "       35.14640728, 37.38789562, 24.7401896 , 32.27623404, 28.8323978 ,\n",
       "       24.7401896 , 37.28905431, 38.02597297, 31.5025794 , 37.43876213,\n",
       "       29.79641341, 39.68285034, 42.7647652 , 36.1602144 , 45.53540398,\n",
       "       24.7401896 , 36.28924846, 37.0896145 , 32.27623404,  8.17678449,\n",
       "        8.17678449, 39.68285034, 38.02597297, 36.1602144 , 36.89824391,\n",
       "       33.83342495, 37.38789562, 37.77748663, 33.83342495, 41.42538623,\n",
       "       36.89824391, 41.74290213, 31.30205421, 31.30205421, 12.93030548,\n",
       "       33.83342495, 37.16623362, 40.11643791, 35.3584534 , 44.60593367,\n",
       "       36.15671195, 33.63847583, 32.27623404, 24.7401896 , 36.15671195,\n",
       "       37.43876213, 35.24006476, 35.24963766, 35.24963766, 35.24963766,\n",
       "       33.63847583, 40.11643791, 35.51569783, 41.74290213, 26.4663117 ,\n",
       "       37.38789562, 29.73670468, 28.8323978 , 29.79641341, 29.79641341,\n",
       "       44.60593367, 13.57364324, 36.15671195, 37.16623362, 36.15671195,\n",
       "       32.27623404, 31.5025794 , 28.8323978 , 41.74290213, 31.30205421,\n",
       "       32.27623404, 35.24963766, 40.84283506, 31.5025794 , 37.43876213,\n",
       "       35.51569783, 37.38789562, 35.51569783, 43.3400623 , 28.8323978 ,\n",
       "       37.28905431, 31.5025794 , 33.51615429, 41.13968775, 31.30205421,\n",
       "       41.14680239, 35.51569783, 24.7401896 , 24.7401896 , 33.83342495,\n",
       "       35.24006476, 36.89824391, 33.51615429, 34.37095676, 31.30205421,\n",
       "       33.63847583, 35.51569783, 37.43876213, 33.72967936, 26.4663117 ,\n",
       "       31.5025794 , 34.37095676, 25.21044759, 37.77748663, 32.27623404,\n",
       "       12.93030548, 25.21044759, 24.7401896 , 35.24963766, 32.27623404,\n",
       "       34.37095676, 33.83342495, 31.30205421, 33.72967936, 35.24963766,\n",
       "       35.14640728, 26.4663117 , 39.34597396, 41.01497269, 16.76515693])"
      ]
     },
     "execution_count": 29,
     "metadata": {},
     "output_type": "execute_result"
    }
   ],
   "source": [
    "classifier.predict(X_test)"
   ]
  },
  {
   "cell_type": "code",
   "execution_count": 30,
   "id": "a331acfd",
   "metadata": {},
   "outputs": [],
   "source": [
    "# Reload the dataset\n",
    "df = pd.read_csv(file_url)"
   ]
  },
  {
   "cell_type": "code",
   "execution_count": 31,
   "id": "a7241795",
   "metadata": {},
   "outputs": [],
   "source": [
    "from sklearn.pipeline import Pipeline\n",
    "from sklearn.compose import ColumnTransformer"
   ]
  },
  {
   "cell_type": "code",
   "execution_count": 32,
   "id": "4209166b",
   "metadata": {},
   "outputs": [],
   "source": [
    "pipeline = Pipeline(steps=[(\"model\", classifier)])"
   ]
  },
  {
   "cell_type": "code",
   "execution_count": 33,
   "id": "14626afa",
   "metadata": {},
   "outputs": [
    {
     "data": {
      "text/html": [
       "<style>#sk-container-id-3 {color: black;background-color: white;}#sk-container-id-3 pre{padding: 0;}#sk-container-id-3 div.sk-toggleable {background-color: white;}#sk-container-id-3 label.sk-toggleable__label {cursor: pointer;display: block;width: 100%;margin-bottom: 0;padding: 0.3em;box-sizing: border-box;text-align: center;}#sk-container-id-3 label.sk-toggleable__label-arrow:before {content: \"▸\";float: left;margin-right: 0.25em;color: #696969;}#sk-container-id-3 label.sk-toggleable__label-arrow:hover:before {color: black;}#sk-container-id-3 div.sk-estimator:hover label.sk-toggleable__label-arrow:before {color: black;}#sk-container-id-3 div.sk-toggleable__content {max-height: 0;max-width: 0;overflow: hidden;text-align: left;background-color: #f0f8ff;}#sk-container-id-3 div.sk-toggleable__content pre {margin: 0.2em;color: black;border-radius: 0.25em;background-color: #f0f8ff;}#sk-container-id-3 input.sk-toggleable__control:checked~div.sk-toggleable__content {max-height: 200px;max-width: 100%;overflow: auto;}#sk-container-id-3 input.sk-toggleable__control:checked~label.sk-toggleable__label-arrow:before {content: \"▾\";}#sk-container-id-3 div.sk-estimator input.sk-toggleable__control:checked~label.sk-toggleable__label {background-color: #d4ebff;}#sk-container-id-3 div.sk-label input.sk-toggleable__control:checked~label.sk-toggleable__label {background-color: #d4ebff;}#sk-container-id-3 input.sk-hidden--visually {border: 0;clip: rect(1px 1px 1px 1px);clip: rect(1px, 1px, 1px, 1px);height: 1px;margin: -1px;overflow: hidden;padding: 0;position: absolute;width: 1px;}#sk-container-id-3 div.sk-estimator {font-family: monospace;background-color: #f0f8ff;border: 1px dotted black;border-radius: 0.25em;box-sizing: border-box;margin-bottom: 0.5em;}#sk-container-id-3 div.sk-estimator:hover {background-color: #d4ebff;}#sk-container-id-3 div.sk-parallel-item::after {content: \"\";width: 100%;border-bottom: 1px solid gray;flex-grow: 1;}#sk-container-id-3 div.sk-label:hover label.sk-toggleable__label {background-color: #d4ebff;}#sk-container-id-3 div.sk-serial::before {content: \"\";position: absolute;border-left: 1px solid gray;box-sizing: border-box;top: 0;bottom: 0;left: 50%;z-index: 0;}#sk-container-id-3 div.sk-serial {display: flex;flex-direction: column;align-items: center;background-color: white;padding-right: 0.2em;padding-left: 0.2em;position: relative;}#sk-container-id-3 div.sk-item {position: relative;z-index: 1;}#sk-container-id-3 div.sk-parallel {display: flex;align-items: stretch;justify-content: center;background-color: white;position: relative;}#sk-container-id-3 div.sk-item::before, #sk-container-id-3 div.sk-parallel-item::before {content: \"\";position: absolute;border-left: 1px solid gray;box-sizing: border-box;top: 0;bottom: 0;left: 50%;z-index: -1;}#sk-container-id-3 div.sk-parallel-item {display: flex;flex-direction: column;z-index: 1;position: relative;background-color: white;}#sk-container-id-3 div.sk-parallel-item:first-child::after {align-self: flex-end;width: 50%;}#sk-container-id-3 div.sk-parallel-item:last-child::after {align-self: flex-start;width: 50%;}#sk-container-id-3 div.sk-parallel-item:only-child::after {width: 0;}#sk-container-id-3 div.sk-dashed-wrapped {border: 1px dashed gray;margin: 0 0.4em 0.5em 0.4em;box-sizing: border-box;padding-bottom: 0.4em;background-color: white;}#sk-container-id-3 div.sk-label label {font-family: monospace;font-weight: bold;display: inline-block;line-height: 1.2em;}#sk-container-id-3 div.sk-label-container {text-align: center;}#sk-container-id-3 div.sk-container {/* jupyter's `normalize.less` sets `[hidden] { display: none; }` but bootstrap.min.css set `[hidden] { display: none !important; }` so we also need the `!important` here to be able to override the default hidden behavior on the sphinx rendered scikit-learn.org. See: https://github.com/scikit-learn/scikit-learn/issues/21755 */display: inline-block !important;position: relative;}#sk-container-id-3 div.sk-text-repr-fallback {display: none;}</style><div id=\"sk-container-id-3\" class=\"sk-top-container\"><div class=\"sk-text-repr-fallback\"><pre>Pipeline(steps=[(&#x27;model&#x27;, LinearRegression())])</pre><b>In a Jupyter environment, please rerun this cell to show the HTML representation or trust the notebook. <br />On GitHub, the HTML representation is unable to render, please try loading this page with nbviewer.org.</b></div><div class=\"sk-container\" hidden><div class=\"sk-item sk-dashed-wrapped\"><div class=\"sk-label-container\"><div class=\"sk-label sk-toggleable\"><input class=\"sk-toggleable__control sk-hidden--visually\" id=\"sk-estimator-id-3\" type=\"checkbox\" ><label for=\"sk-estimator-id-3\" class=\"sk-toggleable__label sk-toggleable__label-arrow\">Pipeline</label><div class=\"sk-toggleable__content\"><pre>Pipeline(steps=[(&#x27;model&#x27;, LinearRegression())])</pre></div></div></div><div class=\"sk-serial\"><div class=\"sk-item\"><div class=\"sk-estimator sk-toggleable\"><input class=\"sk-toggleable__control sk-hidden--visually\" id=\"sk-estimator-id-4\" type=\"checkbox\" ><label for=\"sk-estimator-id-4\" class=\"sk-toggleable__label sk-toggleable__label-arrow\">LinearRegression</label><div class=\"sk-toggleable__content\"><pre>LinearRegression()</pre></div></div></div></div></div></div></div>"
      ],
      "text/plain": [
       "Pipeline(steps=[('model', LinearRegression())])"
      ]
     },
     "execution_count": 33,
     "metadata": {},
     "output_type": "execute_result"
    }
   ],
   "source": [
    "pipeline"
   ]
  },
  {
   "cell_type": "code",
   "execution_count": 34,
   "id": "9150f269",
   "metadata": {},
   "outputs": [],
   "source": [
    "from mlflow.models import infer_signature\n",
    "\n",
    "signature = infer_signature(X_test, y_test)"
   ]
  },
  {
   "cell_type": "code",
   "execution_count": 35,
   "id": "b4d12cbf",
   "metadata": {},
   "outputs": [
    {
     "data": {
      "text/plain": [
       "inputs: \n",
       "  [Tensor('object', (-1, 9))]\n",
       "outputs: \n",
       "  [Tensor('float64', (-1,))]"
      ]
     },
     "execution_count": 35,
     "metadata": {},
     "output_type": "execute_result"
    }
   ],
   "source": [
    "signature"
   ]
  },
  {
   "cell_type": "code",
   "execution_count": 36,
   "id": "e4ba08a8",
   "metadata": {},
   "outputs": [],
   "source": [
    "with mlflow.start_run() as run:\n",
    "    pipeline.fit(X_train, y_train)\n",
    "    mlflow.sklearn.log_model(pipeline, artifact_path=\"pipeline\", signature=signature)"
   ]
  },
  {
   "cell_type": "code",
   "execution_count": 37,
   "id": "f7ce21b0",
   "metadata": {},
   "outputs": [],
   "source": [
    "pipeline_model = mlflow.sklearn.load_model(f\"runs:/{run.info.run_id}/pipeline\")"
   ]
  },
  {
   "cell_type": "code",
   "execution_count": 38,
   "id": "87531cc6",
   "metadata": {},
   "outputs": [
    {
     "data": {
      "text/plain": [
       "sklearn.pipeline.Pipeline"
      ]
     },
     "execution_count": 38,
     "metadata": {},
     "output_type": "execute_result"
    }
   ],
   "source": [
    "type(pipeline_model)"
   ]
  },
  {
   "cell_type": "code",
   "execution_count": 39,
   "id": "a4821f4e",
   "metadata": {},
   "outputs": [
    {
     "data": {
      "text/plain": [
       "array([24.7401896 , 29.73670468, 33.83342495, 26.88950417, 32.27623404,\n",
       "       35.24006476, 41.41179788, 35.24963766, 41.41179788, 36.28924846,\n",
       "       23.69271507, 37.16623362, 24.7401896 , 24.74518525, 41.14680239,\n",
       "       35.14640728, 29.79641341, 41.42538623, 29.79641341, 29.79641341,\n",
       "       24.7401896 , 37.28905431, 35.83586534, 24.7401896 , 25.21044759,\n",
       "       33.63847583, 37.38789562, 34.12103115, 31.30205421, 26.4663117 ,\n",
       "       35.51569783, 35.3584534 , 24.7401896 , 37.16623362, 41.41179788,\n",
       "       36.89824391, 34.37095676, 37.27532223, 43.79416167, 33.51615429,\n",
       "       44.60593367, 38.02597297, 37.43876213, 37.77748663, 35.3584534 ,\n",
       "       28.8323978 , 37.28905431, 36.1602144 , 33.51615429, 20.5150189 ,\n",
       "       35.3584534 , 16.76515693, 36.15671195, 36.28924846, 36.89824391,\n",
       "       41.42538623, 31.5025794 , 32.27623404, 37.0896145 , 25.75475141,\n",
       "       31.30205421, 37.38789562, 37.43876213, 34.06590969, 26.4663117 ,\n",
       "       37.77748663, 19.45217431, 36.15671195, 32.18928518, 34.37095676,\n",
       "       36.1602144 , 35.24006476, 36.1602144 , 41.42538623, 37.43876213,\n",
       "       31.30205421, 39.68285034, 35.24963766, 33.72967936, 37.77748663,\n",
       "       37.28905431, 36.28924846, 37.07096395, 45.53540398, 36.28924846,\n",
       "       42.7647652 , 38.02597297, 37.16623362, 33.63847583, 26.4663117 ,\n",
       "       33.72967936, 31.30205421, 32.27623404, 24.7401896 , 33.51615429,\n",
       "       29.79641341, 26.88950417, 37.16623362, 36.15671195, 39.68285034,\n",
       "       28.8323978 , 33.51615429, 39.03231674, 33.51615429, 35.14640728,\n",
       "       36.28924846, 33.51615429, 35.51569783, 37.77748663, 24.7401896 ,\n",
       "       37.38789562, 35.51569783, 33.63847583, 31.5025794 , 37.07096395,\n",
       "       35.51569783, 26.4663117 , 31.5025794 , 31.30205421, 38.02597297,\n",
       "       32.27623404, 35.14640728, 31.30205421, 28.8323978 , 24.7401896 ,\n",
       "       31.5025794 , 37.0896145 , 37.77748663, 28.8323978 , 31.5025794 ,\n",
       "       24.7401896 , 37.07096395, 35.51569783, 37.07096395, 36.15671195,\n",
       "       34.06590969, 31.5025794 , 33.83342495, 29.79641341, 31.30205421,\n",
       "       37.16623362, 31.30205421, 35.24963766, 39.57562364, 31.5025794 ,\n",
       "       32.18928518, 26.4663117 , 36.15671195, 25.21044759, 26.4663117 ,\n",
       "       35.3584534 , 25.75475141, 36.15671195, 39.68285034, 41.01497269,\n",
       "       39.20062462, 38.02597297, 36.28924846, 31.5025794 , 29.79641341,\n",
       "       33.83342495, 36.1602144 , 33.83342495, 33.51615429, 35.24006476,\n",
       "       35.24963766, 35.24006476, 39.34597396, 37.27532223, 33.83342495,\n",
       "       37.43876213, 35.24963766, 41.13968775, 29.79641341, 35.24006476,\n",
       "       35.14640728, 31.60838483, 36.1602144 , 37.43876213, 19.45217431,\n",
       "       39.68285034, 35.3584534 , 35.14640728, 35.14640728, 35.24006476,\n",
       "       26.4663117 , 38.02597297, 39.68285034, 36.1602144 , 33.51615429,\n",
       "       35.24963766, 20.5150189 , 33.63847583, 24.7401896 , 24.7401896 ,\n",
       "       32.27623404, 36.89824391, 39.70030024, 22.99065181, 33.72967936,\n",
       "       35.24963766, 32.18928518, 39.68285034, 31.60838483, 36.28924846,\n",
       "       35.3584534 , 34.06590969, 12.93030548, 37.27532223, 37.28905431,\n",
       "       37.38789562, 35.51569783, 24.97798522, 37.07096395, 31.5025794 ,\n",
       "       33.83342495, 24.7401896 , 33.51615429, 37.43876213, 29.79641341,\n",
       "       35.24006476, 36.28924846, 33.83342495, 35.24006476, 33.83342495,\n",
       "       41.13968775, 16.34925782, 35.24963766, 37.16623362, 35.24006476,\n",
       "       33.72967936, 33.83342495, 25.21044759, 42.23111459, 33.63847583,\n",
       "       32.18928518, 35.51569783, 39.68285034, 37.16623362, 45.16676615,\n",
       "       31.5025794 , 41.14680239, 29.79641341, 36.1602144 , 34.37095676,\n",
       "       13.57364324, 33.72967936, 37.28905431, 31.30205421, 31.30205421,\n",
       "       24.7401896 , 31.30205421, 31.5025794 , 33.63847583, 39.88385116,\n",
       "       42.61521009, 33.94887116, 16.34925782, 33.72967936, 38.02597297,\n",
       "       33.94887116, 45.53540398, 40.84283506, 41.01497269, 33.83342495,\n",
       "       35.3584534 , 35.51569783, 28.8323978 , 36.1602144 , 36.28924846,\n",
       "       33.94887116, 31.60838483, 35.51569783, 29.58705577, 38.02597297,\n",
       "       33.83342495, 39.70030024, 33.83342495, 31.30205421, 13.57364324,\n",
       "       41.01497269, 13.57364324, 35.24963766, 41.74290213, 33.51615429,\n",
       "       39.57562364, 39.20062462, 35.51569783, 37.16623362, 29.58705577,\n",
       "       37.07096395, 37.07096395, 35.83586534, 26.4663117 , 33.83342495,\n",
       "       39.68285034, 24.7401896 , 29.79641341, 42.7647652 , 35.3584534 ,\n",
       "       26.4663117 , 35.24006476, 33.51615429, 44.60593367, 28.8323978 ,\n",
       "       35.3584534 , 37.43876213, 16.34925782, 37.28905431, 33.83342495,\n",
       "       39.03231674, 35.24006476, 29.79641341, 37.0896145 , 35.51569783,\n",
       "       41.42538623, 31.30205421, 33.83342495, 35.24963766, 33.51615429,\n",
       "       37.43876213, 37.27532223, 39.34597396, 37.07096395, 37.0896145 ,\n",
       "       37.28905431, 34.37095676, 16.76515693, 37.27532223, 24.7401896 ,\n",
       "       35.51569783, 26.4663117 , 37.07096395, 31.30205421, 31.30205421,\n",
       "       43.79416167, 39.70030024, 31.30205421, 32.27623404, 33.94887116,\n",
       "       45.16676615, 39.34597396, 34.37095676, 26.4663117 , 35.3584534 ,\n",
       "       39.03231674, 20.05228487, 33.72967936, 35.24006476, 35.83586534,\n",
       "       33.63847583, 37.43876213, 34.37095676, 35.14640728, 37.28905431,\n",
       "       29.79641341, 39.70030024, 31.30205421, 33.83342495, 36.28924846,\n",
       "       35.24963766, 41.01497269, 35.24006476, 24.7401896 , 37.43876213,\n",
       "       37.16623362, 37.16623362, 36.89824391, 38.02597297, 36.15671195,\n",
       "       43.79416167, 34.37095676, 41.41179788, 33.51615429, 25.75475141,\n",
       "       35.14640728, 39.68285034, 35.3584534 , 23.01751239, 36.15671195,\n",
       "       35.14640728, 37.38789562, 24.7401896 , 32.27623404, 28.8323978 ,\n",
       "       24.7401896 , 37.28905431, 38.02597297, 31.5025794 , 37.43876213,\n",
       "       29.79641341, 39.68285034, 42.7647652 , 36.1602144 , 45.53540398,\n",
       "       24.7401896 , 36.28924846, 37.0896145 , 32.27623404,  8.17678449,\n",
       "        8.17678449, 39.68285034, 38.02597297, 36.1602144 , 36.89824391,\n",
       "       33.83342495, 37.38789562, 37.77748663, 33.83342495, 41.42538623,\n",
       "       36.89824391, 41.74290213, 31.30205421, 31.30205421, 12.93030548,\n",
       "       33.83342495, 37.16623362, 40.11643791, 35.3584534 , 44.60593367,\n",
       "       36.15671195, 33.63847583, 32.27623404, 24.7401896 , 36.15671195,\n",
       "       37.43876213, 35.24006476, 35.24963766, 35.24963766, 35.24963766,\n",
       "       33.63847583, 40.11643791, 35.51569783, 41.74290213, 26.4663117 ,\n",
       "       37.38789562, 29.73670468, 28.8323978 , 29.79641341, 29.79641341,\n",
       "       44.60593367, 13.57364324, 36.15671195, 37.16623362, 36.15671195,\n",
       "       32.27623404, 31.5025794 , 28.8323978 , 41.74290213, 31.30205421,\n",
       "       32.27623404, 35.24963766, 40.84283506, 31.5025794 , 37.43876213,\n",
       "       35.51569783, 37.38789562, 35.51569783, 43.3400623 , 28.8323978 ,\n",
       "       37.28905431, 31.5025794 , 33.51615429, 41.13968775, 31.30205421,\n",
       "       41.14680239, 35.51569783, 24.7401896 , 24.7401896 , 33.83342495,\n",
       "       35.24006476, 36.89824391, 33.51615429, 34.37095676, 31.30205421,\n",
       "       33.63847583, 35.51569783, 37.43876213, 33.72967936, 26.4663117 ,\n",
       "       31.5025794 , 34.37095676, 25.21044759, 37.77748663, 32.27623404,\n",
       "       12.93030548, 25.21044759, 24.7401896 , 35.24963766, 32.27623404,\n",
       "       34.37095676, 33.83342495, 31.30205421, 33.72967936, 35.24963766,\n",
       "       35.14640728, 26.4663117 , 39.34597396, 41.01497269, 16.76515693])"
      ]
     },
     "execution_count": 39,
     "metadata": {},
     "output_type": "execute_result"
    }
   ],
   "source": [
    "pipeline_model.predict(X_test)"
   ]
  },
  {
   "cell_type": "code",
   "execution_count": null,
   "id": "f38f0141",
   "metadata": {},
   "outputs": [],
   "source": []
  }
 ],
 "metadata": {
  "kernelspec": {
   "display_name": "Python 3 (ipykernel)",
   "language": "python",
   "name": "python3"
  },
  "language_info": {
   "codemirror_mode": {
    "name": "ipython",
    "version": 3
   },
   "file_extension": ".py",
   "mimetype": "text/x-python",
   "name": "python",
   "nbconvert_exporter": "python",
   "pygments_lexer": "ipython3",
   "version": "3.8.15"
  }
 },
 "nbformat": 4,
 "nbformat_minor": 5
}
